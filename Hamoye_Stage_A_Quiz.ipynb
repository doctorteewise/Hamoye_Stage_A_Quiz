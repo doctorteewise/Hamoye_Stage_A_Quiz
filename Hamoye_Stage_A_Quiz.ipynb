{
 "cells": [
  {
   "cell_type": "code",
   "execution_count": 43,
   "id": "4538a8b4",
   "metadata": {},
   "outputs": [],
   "source": [
    "import pandas as pd \n",
    "import numpy as np "
   ]
  },
  {
   "cell_type": "code",
   "execution_count": 44,
   "id": "ffe3776e",
   "metadata": {},
   "outputs": [
    {
     "data": {
      "text/html": [
       "<div>\n",
       "<style scoped>\n",
       "    .dataframe tbody tr th:only-of-type {\n",
       "        vertical-align: middle;\n",
       "    }\n",
       "\n",
       "    .dataframe tbody tr th {\n",
       "        vertical-align: top;\n",
       "    }\n",
       "\n",
       "    .dataframe thead th {\n",
       "        text-align: right;\n",
       "    }\n",
       "</style>\n",
       "<table border=\"1\" class=\"dataframe\">\n",
       "  <thead>\n",
       "    <tr style=\"text-align: right;\">\n",
       "      <th></th>\n",
       "      <th>Area Code</th>\n",
       "      <th>Area</th>\n",
       "      <th>Item Code</th>\n",
       "      <th>Item</th>\n",
       "      <th>Element Code</th>\n",
       "      <th>Element</th>\n",
       "      <th>Unit</th>\n",
       "      <th>Y2014</th>\n",
       "      <th>Y2015</th>\n",
       "      <th>Y2016</th>\n",
       "      <th>Y2017</th>\n",
       "      <th>Y2018</th>\n",
       "    </tr>\n",
       "  </thead>\n",
       "  <tbody>\n",
       "    <tr>\n",
       "      <th>0</th>\n",
       "      <td>4</td>\n",
       "      <td>Algeria</td>\n",
       "      <td>2501</td>\n",
       "      <td>Population</td>\n",
       "      <td>511</td>\n",
       "      <td>Total Population - Both sexes</td>\n",
       "      <td>1000 persons</td>\n",
       "      <td>38924.00</td>\n",
       "      <td>39728.00</td>\n",
       "      <td>40551.00</td>\n",
       "      <td>41389.00</td>\n",
       "      <td>42228.00</td>\n",
       "    </tr>\n",
       "    <tr>\n",
       "      <th>1</th>\n",
       "      <td>4</td>\n",
       "      <td>Algeria</td>\n",
       "      <td>2501</td>\n",
       "      <td>Population</td>\n",
       "      <td>5301</td>\n",
       "      <td>Domestic supply quantity</td>\n",
       "      <td>1000 tonnes</td>\n",
       "      <td>0.00</td>\n",
       "      <td>0.00</td>\n",
       "      <td>0.00</td>\n",
       "      <td>0.00</td>\n",
       "      <td>0.00</td>\n",
       "    </tr>\n",
       "    <tr>\n",
       "      <th>2</th>\n",
       "      <td>4</td>\n",
       "      <td>Algeria</td>\n",
       "      <td>2901</td>\n",
       "      <td>Grand Total</td>\n",
       "      <td>664</td>\n",
       "      <td>Food supply (kcal/capita/day)</td>\n",
       "      <td>kcal/capita/day</td>\n",
       "      <td>3377.00</td>\n",
       "      <td>3379.00</td>\n",
       "      <td>3372.00</td>\n",
       "      <td>3341.00</td>\n",
       "      <td>3322.00</td>\n",
       "    </tr>\n",
       "    <tr>\n",
       "      <th>3</th>\n",
       "      <td>4</td>\n",
       "      <td>Algeria</td>\n",
       "      <td>2901</td>\n",
       "      <td>Grand Total</td>\n",
       "      <td>674</td>\n",
       "      <td>Protein supply quantity (g/capita/day)</td>\n",
       "      <td>g/capita/day</td>\n",
       "      <td>94.90</td>\n",
       "      <td>94.35</td>\n",
       "      <td>94.72</td>\n",
       "      <td>92.82</td>\n",
       "      <td>91.83</td>\n",
       "    </tr>\n",
       "    <tr>\n",
       "      <th>4</th>\n",
       "      <td>4</td>\n",
       "      <td>Algeria</td>\n",
       "      <td>2901</td>\n",
       "      <td>Grand Total</td>\n",
       "      <td>684</td>\n",
       "      <td>Fat supply quantity (g/capita/day)</td>\n",
       "      <td>g/capita/day</td>\n",
       "      <td>80.06</td>\n",
       "      <td>79.36</td>\n",
       "      <td>77.40</td>\n",
       "      <td>80.19</td>\n",
       "      <td>77.28</td>\n",
       "    </tr>\n",
       "  </tbody>\n",
       "</table>\n",
       "</div>"
      ],
      "text/plain": [
       "   Area Code     Area  Item Code         Item  Element Code  \\\n",
       "0          4  Algeria       2501   Population           511   \n",
       "1          4  Algeria       2501   Population          5301   \n",
       "2          4  Algeria       2901  Grand Total           664   \n",
       "3          4  Algeria       2901  Grand Total           674   \n",
       "4          4  Algeria       2901  Grand Total           684   \n",
       "\n",
       "                                  Element             Unit     Y2014  \\\n",
       "0           Total Population - Both sexes     1000 persons  38924.00   \n",
       "1                Domestic supply quantity      1000 tonnes      0.00   \n",
       "2           Food supply (kcal/capita/day)  kcal/capita/day   3377.00   \n",
       "3  Protein supply quantity (g/capita/day)     g/capita/day     94.90   \n",
       "4      Fat supply quantity (g/capita/day)     g/capita/day     80.06   \n",
       "\n",
       "      Y2015     Y2016     Y2017     Y2018  \n",
       "0  39728.00  40551.00  41389.00  42228.00  \n",
       "1      0.00      0.00      0.00      0.00  \n",
       "2   3379.00   3372.00   3341.00   3322.00  \n",
       "3     94.35     94.72     92.82     91.83  \n",
       "4     79.36     77.40     80.19     77.28  "
      ]
     },
     "execution_count": 44,
     "metadata": {},
     "output_type": "execute_result"
    }
   ],
   "source": [
    "df = pd.read_csv(\"FoodBalanceSheets_E_Africa_NOFLAG.csv\", encoding = \"latin1\")\n",
    "df.head()"
   ]
  },
  {
   "cell_type": "code",
   "execution_count": 45,
   "id": "76d588fa",
   "metadata": {
    "scrolled": false
   },
   "outputs": [
    {
     "data": {
      "text/html": [
       "<div>\n",
       "<style scoped>\n",
       "    .dataframe tbody tr th:only-of-type {\n",
       "        vertical-align: middle;\n",
       "    }\n",
       "\n",
       "    .dataframe tbody tr th {\n",
       "        vertical-align: top;\n",
       "    }\n",
       "\n",
       "    .dataframe thead th {\n",
       "        text-align: right;\n",
       "    }\n",
       "</style>\n",
       "<table border=\"1\" class=\"dataframe\">\n",
       "  <thead>\n",
       "    <tr style=\"text-align: right;\">\n",
       "      <th></th>\n",
       "      <th>Area Code</th>\n",
       "      <th>Area</th>\n",
       "      <th>Item Code</th>\n",
       "      <th>Item</th>\n",
       "      <th>Element Code</th>\n",
       "      <th>Element</th>\n",
       "      <th>Unit</th>\n",
       "      <th>Y2014</th>\n",
       "      <th>Y2015</th>\n",
       "      <th>Y2016</th>\n",
       "      <th>Y2017</th>\n",
       "      <th>Y2018</th>\n",
       "    </tr>\n",
       "  </thead>\n",
       "  <tbody>\n",
       "    <tr>\n",
       "      <th>count</th>\n",
       "      <td>60943.000000</td>\n",
       "      <td>60943</td>\n",
       "      <td>60943.000000</td>\n",
       "      <td>60943</td>\n",
       "      <td>60943.000000</td>\n",
       "      <td>60943</td>\n",
       "      <td>60943</td>\n",
       "      <td>59354.000000</td>\n",
       "      <td>59395.000000</td>\n",
       "      <td>59408.000000</td>\n",
       "      <td>59437.000000</td>\n",
       "      <td>59507.000000</td>\n",
       "    </tr>\n",
       "    <tr>\n",
       "      <th>unique</th>\n",
       "      <td>NaN</td>\n",
       "      <td>49</td>\n",
       "      <td>NaN</td>\n",
       "      <td>119</td>\n",
       "      <td>NaN</td>\n",
       "      <td>18</td>\n",
       "      <td>5</td>\n",
       "      <td>NaN</td>\n",
       "      <td>NaN</td>\n",
       "      <td>NaN</td>\n",
       "      <td>NaN</td>\n",
       "      <td>NaN</td>\n",
       "    </tr>\n",
       "    <tr>\n",
       "      <th>top</th>\n",
       "      <td>NaN</td>\n",
       "      <td>Kenya</td>\n",
       "      <td>NaN</td>\n",
       "      <td>Milk - Excluding Butter</td>\n",
       "      <td>NaN</td>\n",
       "      <td>Domestic supply quantity</td>\n",
       "      <td>1000 tonnes</td>\n",
       "      <td>NaN</td>\n",
       "      <td>NaN</td>\n",
       "      <td>NaN</td>\n",
       "      <td>NaN</td>\n",
       "      <td>NaN</td>\n",
       "    </tr>\n",
       "    <tr>\n",
       "      <th>freq</th>\n",
       "      <td>NaN</td>\n",
       "      <td>1560</td>\n",
       "      <td>NaN</td>\n",
       "      <td>1262</td>\n",
       "      <td>NaN</td>\n",
       "      <td>5295</td>\n",
       "      <td>40933</td>\n",
       "      <td>NaN</td>\n",
       "      <td>NaN</td>\n",
       "      <td>NaN</td>\n",
       "      <td>NaN</td>\n",
       "      <td>NaN</td>\n",
       "    </tr>\n",
       "    <tr>\n",
       "      <th>mean</th>\n",
       "      <td>134.265576</td>\n",
       "      <td>NaN</td>\n",
       "      <td>2687.176706</td>\n",
       "      <td>NaN</td>\n",
       "      <td>3814.856456</td>\n",
       "      <td>NaN</td>\n",
       "      <td>NaN</td>\n",
       "      <td>134.196282</td>\n",
       "      <td>135.235966</td>\n",
       "      <td>136.555222</td>\n",
       "      <td>140.917765</td>\n",
       "      <td>143.758381</td>\n",
       "    </tr>\n",
       "    <tr>\n",
       "      <th>std</th>\n",
       "      <td>72.605709</td>\n",
       "      <td>NaN</td>\n",
       "      <td>146.055739</td>\n",
       "      <td>NaN</td>\n",
       "      <td>2212.007033</td>\n",
       "      <td>NaN</td>\n",
       "      <td>NaN</td>\n",
       "      <td>1567.663696</td>\n",
       "      <td>1603.403984</td>\n",
       "      <td>1640.007194</td>\n",
       "      <td>1671.862359</td>\n",
       "      <td>1710.782658</td>\n",
       "    </tr>\n",
       "    <tr>\n",
       "      <th>min</th>\n",
       "      <td>4.000000</td>\n",
       "      <td>NaN</td>\n",
       "      <td>2501.000000</td>\n",
       "      <td>NaN</td>\n",
       "      <td>511.000000</td>\n",
       "      <td>NaN</td>\n",
       "      <td>NaN</td>\n",
       "      <td>-1796.000000</td>\n",
       "      <td>-3161.000000</td>\n",
       "      <td>-3225.000000</td>\n",
       "      <td>-1582.000000</td>\n",
       "      <td>-3396.000000</td>\n",
       "    </tr>\n",
       "    <tr>\n",
       "      <th>25%</th>\n",
       "      <td>74.000000</td>\n",
       "      <td>NaN</td>\n",
       "      <td>2562.000000</td>\n",
       "      <td>NaN</td>\n",
       "      <td>684.000000</td>\n",
       "      <td>NaN</td>\n",
       "      <td>NaN</td>\n",
       "      <td>0.000000</td>\n",
       "      <td>0.000000</td>\n",
       "      <td>0.000000</td>\n",
       "      <td>0.000000</td>\n",
       "      <td>0.000000</td>\n",
       "    </tr>\n",
       "    <tr>\n",
       "      <th>50%</th>\n",
       "      <td>136.000000</td>\n",
       "      <td>NaN</td>\n",
       "      <td>2630.000000</td>\n",
       "      <td>NaN</td>\n",
       "      <td>5142.000000</td>\n",
       "      <td>NaN</td>\n",
       "      <td>NaN</td>\n",
       "      <td>0.090000</td>\n",
       "      <td>0.080000</td>\n",
       "      <td>0.080000</td>\n",
       "      <td>0.100000</td>\n",
       "      <td>0.070000</td>\n",
       "    </tr>\n",
       "    <tr>\n",
       "      <th>75%</th>\n",
       "      <td>195.000000</td>\n",
       "      <td>NaN</td>\n",
       "      <td>2775.000000</td>\n",
       "      <td>NaN</td>\n",
       "      <td>5511.000000</td>\n",
       "      <td>NaN</td>\n",
       "      <td>NaN</td>\n",
       "      <td>8.340000</td>\n",
       "      <td>8.460000</td>\n",
       "      <td>8.430000</td>\n",
       "      <td>9.000000</td>\n",
       "      <td>9.000000</td>\n",
       "    </tr>\n",
       "    <tr>\n",
       "      <th>max</th>\n",
       "      <td>276.000000</td>\n",
       "      <td>NaN</td>\n",
       "      <td>2961.000000</td>\n",
       "      <td>NaN</td>\n",
       "      <td>5911.000000</td>\n",
       "      <td>NaN</td>\n",
       "      <td>NaN</td>\n",
       "      <td>176405.000000</td>\n",
       "      <td>181137.000000</td>\n",
       "      <td>185960.000000</td>\n",
       "      <td>190873.000000</td>\n",
       "      <td>195875.000000</td>\n",
       "    </tr>\n",
       "  </tbody>\n",
       "</table>\n",
       "</div>"
      ],
      "text/plain": [
       "           Area Code   Area     Item Code                     Item  \\\n",
       "count   60943.000000  60943  60943.000000                    60943   \n",
       "unique           NaN     49           NaN                      119   \n",
       "top              NaN  Kenya           NaN  Milk - Excluding Butter   \n",
       "freq             NaN   1560           NaN                     1262   \n",
       "mean      134.265576    NaN   2687.176706                      NaN   \n",
       "std        72.605709    NaN    146.055739                      NaN   \n",
       "min         4.000000    NaN   2501.000000                      NaN   \n",
       "25%        74.000000    NaN   2562.000000                      NaN   \n",
       "50%       136.000000    NaN   2630.000000                      NaN   \n",
       "75%       195.000000    NaN   2775.000000                      NaN   \n",
       "max       276.000000    NaN   2961.000000                      NaN   \n",
       "\n",
       "        Element Code                   Element         Unit          Y2014  \\\n",
       "count   60943.000000                     60943        60943   59354.000000   \n",
       "unique           NaN                        18            5            NaN   \n",
       "top              NaN  Domestic supply quantity  1000 tonnes            NaN   \n",
       "freq             NaN                      5295        40933            NaN   \n",
       "mean     3814.856456                       NaN          NaN     134.196282   \n",
       "std      2212.007033                       NaN          NaN    1567.663696   \n",
       "min       511.000000                       NaN          NaN   -1796.000000   \n",
       "25%       684.000000                       NaN          NaN       0.000000   \n",
       "50%      5142.000000                       NaN          NaN       0.090000   \n",
       "75%      5511.000000                       NaN          NaN       8.340000   \n",
       "max      5911.000000                       NaN          NaN  176405.000000   \n",
       "\n",
       "                Y2015          Y2016          Y2017          Y2018  \n",
       "count    59395.000000   59408.000000   59437.000000   59507.000000  \n",
       "unique            NaN            NaN            NaN            NaN  \n",
       "top               NaN            NaN            NaN            NaN  \n",
       "freq              NaN            NaN            NaN            NaN  \n",
       "mean       135.235966     136.555222     140.917765     143.758381  \n",
       "std       1603.403984    1640.007194    1671.862359    1710.782658  \n",
       "min      -3161.000000   -3225.000000   -1582.000000   -3396.000000  \n",
       "25%          0.000000       0.000000       0.000000       0.000000  \n",
       "50%          0.080000       0.080000       0.100000       0.070000  \n",
       "75%          8.460000       8.430000       9.000000       9.000000  \n",
       "max     181137.000000  185960.000000  190873.000000  195875.000000  "
      ]
     },
     "execution_count": 45,
     "metadata": {},
     "output_type": "execute_result"
    }
   ],
   "source": [
    "df.describe(include = \"all\")"
   ]
  },
  {
   "cell_type": "markdown",
   "id": "7e264545",
   "metadata": {},
   "source": [
    "# NO. 1 "
   ]
  },
  {
   "cell_type": "code",
   "execution_count": 46,
   "id": "19f2ca2e",
   "metadata": {},
   "outputs": [],
   "source": [
    "lst = [[35, 'Portugal', 94], [33, 'Argentina', 93], [30 , 'Brazil', 92]]\n",
    "\n",
    "col = ['Age','Nationality','Overall']"
   ]
  },
  {
   "cell_type": "code",
   "execution_count": 47,
   "id": "e16df2f4",
   "metadata": {},
   "outputs": [
    {
     "data": {
      "text/html": [
       "<div>\n",
       "<style scoped>\n",
       "    .dataframe tbody tr th:only-of-type {\n",
       "        vertical-align: middle;\n",
       "    }\n",
       "\n",
       "    .dataframe tbody tr th {\n",
       "        vertical-align: top;\n",
       "    }\n",
       "\n",
       "    .dataframe thead th {\n",
       "        text-align: right;\n",
       "    }\n",
       "</style>\n",
       "<table border=\"1\" class=\"dataframe\">\n",
       "  <thead>\n",
       "    <tr style=\"text-align: right;\">\n",
       "      <th></th>\n",
       "      <th>Age</th>\n",
       "      <th>Nationality</th>\n",
       "      <th>Overall</th>\n",
       "    </tr>\n",
       "  </thead>\n",
       "  <tbody>\n",
       "    <tr>\n",
       "      <th>1</th>\n",
       "      <td>35</td>\n",
       "      <td>Portugal</td>\n",
       "      <td>94</td>\n",
       "    </tr>\n",
       "    <tr>\n",
       "      <th>2</th>\n",
       "      <td>33</td>\n",
       "      <td>Argentina</td>\n",
       "      <td>93</td>\n",
       "    </tr>\n",
       "    <tr>\n",
       "      <th>3</th>\n",
       "      <td>30</td>\n",
       "      <td>Brazil</td>\n",
       "      <td>92</td>\n",
       "    </tr>\n",
       "  </tbody>\n",
       "</table>\n",
       "</div>"
      ],
      "text/plain": [
       "   Age Nationality  Overall\n",
       "1   35    Portugal       94\n",
       "2   33   Argentina       93\n",
       "3   30      Brazil       92"
      ]
     },
     "execution_count": 47,
     "metadata": {},
     "output_type": "execute_result"
    }
   ],
   "source": [
    "pd.DataFrame(lst, columns = col, index = [1,2,3])"
   ]
  },
  {
   "cell_type": "code",
   "execution_count": 48,
   "id": "14070811",
   "metadata": {},
   "outputs": [
    {
     "data": {
      "text/html": [
       "<div>\n",
       "<style scoped>\n",
       "    .dataframe tbody tr th:only-of-type {\n",
       "        vertical-align: middle;\n",
       "    }\n",
       "\n",
       "    .dataframe tbody tr th {\n",
       "        vertical-align: top;\n",
       "    }\n",
       "\n",
       "    .dataframe thead th {\n",
       "        text-align: right;\n",
       "    }\n",
       "</style>\n",
       "<table border=\"1\" class=\"dataframe\">\n",
       "  <thead>\n",
       "    <tr style=\"text-align: right;\">\n",
       "      <th></th>\n",
       "      <th>Age</th>\n",
       "      <th>Nationality</th>\n",
       "      <th>Overall</th>\n",
       "    </tr>\n",
       "  </thead>\n",
       "  <tbody>\n",
       "    <tr>\n",
       "      <th>1</th>\n",
       "      <td>35</td>\n",
       "      <td>Portugal</td>\n",
       "      <td>94</td>\n",
       "    </tr>\n",
       "    <tr>\n",
       "      <th>2</th>\n",
       "      <td>33</td>\n",
       "      <td>Argentina</td>\n",
       "      <td>93</td>\n",
       "    </tr>\n",
       "    <tr>\n",
       "      <th>3</th>\n",
       "      <td>30</td>\n",
       "      <td>Brazil</td>\n",
       "      <td>92</td>\n",
       "    </tr>\n",
       "  </tbody>\n",
       "</table>\n",
       "</div>"
      ],
      "text/plain": [
       "   Age Nationality  Overall\n",
       "1   35    Portugal       94\n",
       "2   33   Argentina       93\n",
       "3   30      Brazil       92"
      ]
     },
     "execution_count": 48,
     "metadata": {},
     "output_type": "execute_result"
    }
   ],
   "source": [
    "pd.DataFrame(lst, columns = col, index = [i for i in range(1,4)])"
   ]
  },
  {
   "cell_type": "code",
   "execution_count": 49,
   "id": "b101ddb4",
   "metadata": {},
   "outputs": [
    {
     "ename": "SyntaxError",
     "evalue": "invalid character '‘' (U+2018) (Temp/ipykernel_29772/971124070.py, line 1)",
     "output_type": "error",
     "traceback": [
      "\u001b[1;36m  File \u001b[1;32m\"C:\\Users\\USER\\AppData\\Local\\Temp/ipykernel_29772/971124070.py\"\u001b[1;36m, line \u001b[1;32m1\u001b[0m\n\u001b[1;33m    pd.datframe(lst, column = [‘Age’,’Nationality’,’Overall’],index = [1,2,3])\u001b[0m\n\u001b[1;37m                               ^\u001b[0m\n\u001b[1;31mSyntaxError\u001b[0m\u001b[1;31m:\u001b[0m invalid character '‘' (U+2018)\n"
     ]
    }
   ],
   "source": [
    "pd.datframe(lst, column = [‘Age’,’Nationality’,’Overall’],index = [1,2,3])"
   ]
  },
  {
   "cell_type": "markdown",
   "id": "e32cf97f",
   "metadata": {},
   "source": [
    "# NO.2"
   ]
  },
  {
   "cell_type": "code",
   "execution_count": 50,
   "id": "bc387644",
   "metadata": {},
   "outputs": [],
   "source": [
    "array  = np.array([[94, 89, 63],[93, 92, 48],[92, 94, 56]])\n"
   ]
  },
  {
   "cell_type": "code",
   "execution_count": 51,
   "id": "e456666a",
   "metadata": {
    "scrolled": false
   },
   "outputs": [
    {
     "data": {
      "text/plain": [
       "array([[94, 89, 63],\n",
       "       [93, 92, 48]])"
      ]
     },
     "execution_count": 51,
     "metadata": {},
     "output_type": "execute_result"
    }
   ],
   "source": [
    "array[ : 2, 0 : ]"
   ]
  },
  {
   "cell_type": "code",
   "execution_count": 52,
   "id": "3e9645d6",
   "metadata": {
    "scrolled": false
   },
   "outputs": [
    {
     "data": {
      "text/plain": [
       "array([[89, 63],\n",
       "       [92, 48]])"
      ]
     },
     "execution_count": 52,
     "metadata": {},
     "output_type": "execute_result"
    }
   ],
   "source": [
    "array[ : 2, 1 : ] "
   ]
  },
  {
   "cell_type": "code",
   "execution_count": 53,
   "id": "8ad98efd",
   "metadata": {
    "scrolled": true
   },
   "outputs": [
    {
     "data": {
      "text/plain": [
       "array([[89, 63]])"
      ]
     },
     "execution_count": 53,
     "metadata": {},
     "output_type": "execute_result"
    }
   ],
   "source": [
    "array[ : 1, 1 : ]"
   ]
  },
  {
   "cell_type": "markdown",
   "id": "72d6d757",
   "metadata": {},
   "source": [
    "# NO. 4"
   ]
  },
  {
   "cell_type": "code",
   "execution_count": 54,
   "id": "354abd1c",
   "metadata": {
    "scrolled": true
   },
   "outputs": [
    {
     "data": {
      "text/plain": [
       "(60943, 12)"
      ]
     },
     "execution_count": 54,
     "metadata": {},
     "output_type": "execute_result"
    }
   ],
   "source": [
    "df.shape"
   ]
  },
  {
   "cell_type": "markdown",
   "id": "7c686b2c",
   "metadata": {},
   "source": [
    "# NO. 5"
   ]
  },
  {
   "cell_type": "code",
   "execution_count": 55,
   "id": "a1ad0d89",
   "metadata": {},
   "outputs": [],
   "source": [
    "S = [['him', 'sell'], [90, 28, 43]]"
   ]
  },
  {
   "cell_type": "code",
   "execution_count": 56,
   "id": "bfbc8702",
   "metadata": {
    "scrolled": true
   },
   "outputs": [
    {
     "data": {
      "text/plain": [
       "'e'"
      ]
     },
     "execution_count": 56,
     "metadata": {},
     "output_type": "execute_result"
    }
   ],
   "source": [
    "S[0][1][1]"
   ]
  },
  {
   "cell_type": "markdown",
   "id": "5df15dd2",
   "metadata": {},
   "source": [
    "# NO. 6"
   ]
  },
  {
   "cell_type": "code",
   "execution_count": 57,
   "id": "c35e50b6",
   "metadata": {
    "scrolled": true
   },
   "outputs": [
    {
     "ename": "TypeError",
     "evalue": "'tuple' object does not support item assignment",
     "output_type": "error",
     "traceback": [
      "\u001b[1;31m---------------------------------------------------------------------------\u001b[0m",
      "\u001b[1;31mTypeError\u001b[0m                                 Traceback (most recent call last)",
      "\u001b[1;32m~\\AppData\\Local\\Temp/ipykernel_29772/3917941094.py\u001b[0m in \u001b[0;36m<module>\u001b[1;34m\u001b[0m\n\u001b[0;32m      1\u001b[0m \u001b[0mmy_tuppy\u001b[0m \u001b[1;33m=\u001b[0m \u001b[1;33m(\u001b[0m\u001b[1;36m1\u001b[0m\u001b[1;33m,\u001b[0m\u001b[1;36m2\u001b[0m\u001b[1;33m,\u001b[0m\u001b[1;36m5\u001b[0m\u001b[1;33m,\u001b[0m\u001b[1;36m8\u001b[0m\u001b[1;33m)\u001b[0m\u001b[1;33m\u001b[0m\u001b[1;33m\u001b[0m\u001b[0m\n\u001b[0;32m      2\u001b[0m \u001b[1;33m\u001b[0m\u001b[0m\n\u001b[1;32m----> 3\u001b[1;33m \u001b[0mmy_tuppy\u001b[0m\u001b[1;33m[\u001b[0m\u001b[1;36m2\u001b[0m\u001b[1;33m]\u001b[0m \u001b[1;33m=\u001b[0m \u001b[1;36m6\u001b[0m\u001b[1;33m\u001b[0m\u001b[1;33m\u001b[0m\u001b[0m\n\u001b[0m",
      "\u001b[1;31mTypeError\u001b[0m: 'tuple' object does not support item assignment"
     ]
    }
   ],
   "source": [
    "my_tuppy = (1,2,5,8)\n",
    "\n",
    "my_tuppy[2] = 6"
   ]
  },
  {
   "cell_type": "markdown",
   "id": "4316116c",
   "metadata": {},
   "source": [
    "# NO. 7 "
   ]
  },
  {
   "cell_type": "code",
   "execution_count": 58,
   "id": "df8df3d5",
   "metadata": {},
   "outputs": [],
   "source": [
    "y = [(2, 4), (7, 8), (1, 5, 9)]"
   ]
  },
  {
   "cell_type": "code",
   "execution_count": 59,
   "id": "2d52252b",
   "metadata": {},
   "outputs": [
    {
     "data": {
      "text/plain": [
       "8"
      ]
     },
     "execution_count": 59,
     "metadata": {},
     "output_type": "execute_result"
    }
   ],
   "source": [
    "x = y[1][-1]\n",
    "x"
   ]
  },
  {
   "cell_type": "code",
   "execution_count": 60,
   "id": "97f19ad6",
   "metadata": {},
   "outputs": [
    {
     "data": {
      "text/plain": [
       "8"
      ]
     },
     "execution_count": 60,
     "metadata": {},
     "output_type": "execute_result"
    }
   ],
   "source": [
    "x = y[1][1]\n",
    "x"
   ]
  },
  {
   "cell_type": "markdown",
   "id": "2cb80445",
   "metadata": {},
   "source": [
    "# NO.11\n",
    "# What is the total sum of Animal Fat produced in 2014 and 2017"
   ]
  },
  {
   "cell_type": "code",
   "execution_count": 61,
   "id": "8153131f",
   "metadata": {
    "scrolled": false
   },
   "outputs": [
    {
     "data": {
      "text/plain": [
       "Item\n",
       "Alcohol, Non-Food        2403.00\n",
       "Alcoholic Beverages    102410.11\n",
       "Animal Products         11935.65\n",
       "Animal fats            209460.54\n",
       "Apples and products      9499.23\n",
       "                         ...    \n",
       "Vegetables, Other      155038.96\n",
       "Vegetal Products       107145.19\n",
       "Wheat and products     232670.13\n",
       "Wine                     4497.36\n",
       "Yams                   200396.96\n",
       "Name: Y2014, Length: 119, dtype: float64"
      ]
     },
     "execution_count": 61,
     "metadata": {},
     "output_type": "execute_result"
    }
   ],
   "source": [
    "df.groupby('Item')['Y2014'].sum()"
   ]
  },
  {
   "cell_type": "code",
   "execution_count": 62,
   "id": "5c1eb380",
   "metadata": {
    "scrolled": true
   },
   "outputs": [
    {
     "data": {
      "text/plain": [
       "Item\n",
       "Alcohol, Non-Food        2348.00\n",
       "Alcoholic Beverages     95581.06\n",
       "Animal Products         11547.65\n",
       "Animal fats            269617.53\n",
       "Apples and products     10198.90\n",
       "                         ...    \n",
       "Vegetables, Other      157752.59\n",
       "Vegetal Products       107655.20\n",
       "Wheat and products     240047.62\n",
       "Wine                     4178.02\n",
       "Yams                   229174.59\n",
       "Name: Y2017, Length: 119, dtype: float64"
      ]
     },
     "execution_count": 62,
     "metadata": {},
     "output_type": "execute_result"
    }
   ],
   "source": [
    "df.groupby('Item')['Y2017'].sum()"
   ]
  },
  {
   "cell_type": "markdown",
   "id": "0f84fa2e",
   "metadata": {},
   "source": [
    "# NO. 12\n",
    "# What is the mean and standard deviation across the whole dataset for the year 2015 to 3 decimal places?"
   ]
  },
  {
   "cell_type": "code",
   "execution_count": 63,
   "id": "a8ad61db",
   "metadata": {},
   "outputs": [
    {
     "data": {
      "text/plain": [
       "135.23596649549236"
      ]
     },
     "execution_count": 63,
     "metadata": {},
     "output_type": "execute_result"
    }
   ],
   "source": [
    "df['Y2015'].mean()"
   ]
  },
  {
   "cell_type": "code",
   "execution_count": 64,
   "id": "252c003d",
   "metadata": {},
   "outputs": [
    {
     "data": {
      "text/plain": [
       "1603.4039839423301"
      ]
     },
     "execution_count": 64,
     "metadata": {},
     "output_type": "execute_result"
    }
   ],
   "source": [
    "df['Y2015'].std()"
   ]
  },
  {
   "cell_type": "markdown",
   "id": "bd38dff0",
   "metadata": {},
   "source": [
    "# NO. 13\n",
    "# What is the total number and percentage of missing data in 2016 to 2 decimal places?"
   ]
  },
  {
   "cell_type": "code",
   "execution_count": 65,
   "id": "11df4b46",
   "metadata": {
    "scrolled": true
   },
   "outputs": [
    {
     "data": {
      "text/plain": [
       "Area Code          0\n",
       "Area               0\n",
       "Item Code          0\n",
       "Item               0\n",
       "Element Code       0\n",
       "Element            0\n",
       "Unit               0\n",
       "Y2014           1589\n",
       "Y2015           1548\n",
       "Y2016           1535\n",
       "Y2017           1506\n",
       "Y2018           1436\n",
       "dtype: int64"
      ]
     },
     "execution_count": 65,
     "metadata": {},
     "output_type": "execute_result"
    }
   ],
   "source": [
    "df.isnull().sum()"
   ]
  },
  {
   "cell_type": "code",
   "execution_count": 66,
   "id": "a88bd23d",
   "metadata": {
    "scrolled": false
   },
   "outputs": [
    {
     "data": {
      "text/plain": [
       "Area Code       0.000000\n",
       "Area            0.000000\n",
       "Item Code       0.000000\n",
       "Item            0.000000\n",
       "Element Code    0.000000\n",
       "Element         0.000000\n",
       "Unit            0.000000\n",
       "Y2014           2.607354\n",
       "Y2015           2.540078\n",
       "Y2016           2.518747\n",
       "Y2017           2.471162\n",
       "Y2018           2.356300\n",
       "dtype: float64"
      ]
     },
     "execution_count": 66,
     "metadata": {},
     "output_type": "execute_result"
    }
   ],
   "source": [
    "df.isnull().sum()/df.shape[0]*100"
   ]
  },
  {
   "cell_type": "markdown",
   "id": "66be04f5",
   "metadata": {},
   "source": [
    "# NO.14\n",
    "# Which year had the highest correlation with ‘Element Code’?"
   ]
  },
  {
   "cell_type": "code",
   "execution_count": 67,
   "id": "d875ac62",
   "metadata": {
    "scrolled": true
   },
   "outputs": [
    {
     "data": {
      "text/html": [
       "<div>\n",
       "<style scoped>\n",
       "    .dataframe tbody tr th:only-of-type {\n",
       "        vertical-align: middle;\n",
       "    }\n",
       "\n",
       "    .dataframe tbody tr th {\n",
       "        vertical-align: top;\n",
       "    }\n",
       "\n",
       "    .dataframe thead th {\n",
       "        text-align: right;\n",
       "    }\n",
       "</style>\n",
       "<table border=\"1\" class=\"dataframe\">\n",
       "  <thead>\n",
       "    <tr style=\"text-align: right;\">\n",
       "      <th></th>\n",
       "      <th>Area Code</th>\n",
       "      <th>Item Code</th>\n",
       "      <th>Element Code</th>\n",
       "      <th>Y2014</th>\n",
       "      <th>Y2015</th>\n",
       "      <th>Y2016</th>\n",
       "      <th>Y2017</th>\n",
       "      <th>Y2018</th>\n",
       "    </tr>\n",
       "  </thead>\n",
       "  <tbody>\n",
       "    <tr>\n",
       "      <th>Area Code</th>\n",
       "      <td>1.000000</td>\n",
       "      <td>-0.005159</td>\n",
       "      <td>-0.000209</td>\n",
       "      <td>0.006164</td>\n",
       "      <td>0.005472</td>\n",
       "      <td>0.005247</td>\n",
       "      <td>0.005006</td>\n",
       "      <td>0.005665</td>\n",
       "    </tr>\n",
       "    <tr>\n",
       "      <th>Item Code</th>\n",
       "      <td>-0.005159</td>\n",
       "      <td>1.000000</td>\n",
       "      <td>-0.024683</td>\n",
       "      <td>0.021722</td>\n",
       "      <td>0.020857</td>\n",
       "      <td>0.020109</td>\n",
       "      <td>0.021494</td>\n",
       "      <td>0.021314</td>\n",
       "    </tr>\n",
       "    <tr>\n",
       "      <th>Element Code</th>\n",
       "      <td>-0.000209</td>\n",
       "      <td>-0.024683</td>\n",
       "      <td>1.000000</td>\n",
       "      <td>0.024457</td>\n",
       "      <td>0.023889</td>\n",
       "      <td>0.023444</td>\n",
       "      <td>0.024254</td>\n",
       "      <td>0.024279</td>\n",
       "    </tr>\n",
       "    <tr>\n",
       "      <th>Y2014</th>\n",
       "      <td>0.006164</td>\n",
       "      <td>0.021722</td>\n",
       "      <td>0.024457</td>\n",
       "      <td>1.000000</td>\n",
       "      <td>0.994647</td>\n",
       "      <td>0.996081</td>\n",
       "      <td>0.995230</td>\n",
       "      <td>0.994872</td>\n",
       "    </tr>\n",
       "    <tr>\n",
       "      <th>Y2015</th>\n",
       "      <td>0.005472</td>\n",
       "      <td>0.020857</td>\n",
       "      <td>0.023889</td>\n",
       "      <td>0.994647</td>\n",
       "      <td>1.000000</td>\n",
       "      <td>0.995739</td>\n",
       "      <td>0.988048</td>\n",
       "      <td>0.988208</td>\n",
       "    </tr>\n",
       "    <tr>\n",
       "      <th>Y2016</th>\n",
       "      <td>0.005247</td>\n",
       "      <td>0.020109</td>\n",
       "      <td>0.023444</td>\n",
       "      <td>0.996081</td>\n",
       "      <td>0.995739</td>\n",
       "      <td>1.000000</td>\n",
       "      <td>0.992785</td>\n",
       "      <td>0.992757</td>\n",
       "    </tr>\n",
       "    <tr>\n",
       "      <th>Y2017</th>\n",
       "      <td>0.005006</td>\n",
       "      <td>0.021494</td>\n",
       "      <td>0.024254</td>\n",
       "      <td>0.995230</td>\n",
       "      <td>0.988048</td>\n",
       "      <td>0.992785</td>\n",
       "      <td>1.000000</td>\n",
       "      <td>0.998103</td>\n",
       "    </tr>\n",
       "    <tr>\n",
       "      <th>Y2018</th>\n",
       "      <td>0.005665</td>\n",
       "      <td>0.021314</td>\n",
       "      <td>0.024279</td>\n",
       "      <td>0.994872</td>\n",
       "      <td>0.988208</td>\n",
       "      <td>0.992757</td>\n",
       "      <td>0.998103</td>\n",
       "      <td>1.000000</td>\n",
       "    </tr>\n",
       "  </tbody>\n",
       "</table>\n",
       "</div>"
      ],
      "text/plain": [
       "              Area Code  Item Code  Element Code     Y2014     Y2015  \\\n",
       "Area Code      1.000000  -0.005159     -0.000209  0.006164  0.005472   \n",
       "Item Code     -0.005159   1.000000     -0.024683  0.021722  0.020857   \n",
       "Element Code  -0.000209  -0.024683      1.000000  0.024457  0.023889   \n",
       "Y2014          0.006164   0.021722      0.024457  1.000000  0.994647   \n",
       "Y2015          0.005472   0.020857      0.023889  0.994647  1.000000   \n",
       "Y2016          0.005247   0.020109      0.023444  0.996081  0.995739   \n",
       "Y2017          0.005006   0.021494      0.024254  0.995230  0.988048   \n",
       "Y2018          0.005665   0.021314      0.024279  0.994872  0.988208   \n",
       "\n",
       "                 Y2016     Y2017     Y2018  \n",
       "Area Code     0.005247  0.005006  0.005665  \n",
       "Item Code     0.020109  0.021494  0.021314  \n",
       "Element Code  0.023444  0.024254  0.024279  \n",
       "Y2014         0.996081  0.995230  0.994872  \n",
       "Y2015         0.995739  0.988048  0.988208  \n",
       "Y2016         1.000000  0.992785  0.992757  \n",
       "Y2017         0.992785  1.000000  0.998103  \n",
       "Y2018         0.992757  0.998103  1.000000  "
      ]
     },
     "execution_count": 67,
     "metadata": {},
     "output_type": "execute_result"
    }
   ],
   "source": [
    "df.corr()"
   ]
  },
  {
   "cell_type": "markdown",
   "id": "deda8a32",
   "metadata": {},
   "source": [
    "# NO.15\n",
    "# What year has the highest sum of Import Quantity?"
   ]
  },
  {
   "cell_type": "code",
   "execution_count": 68,
   "id": "0abc9180",
   "metadata": {
    "scrolled": true
   },
   "outputs": [
    {
     "data": {
      "text/plain": [
       "Element\n",
       "Domestic supply quantity                  1996716.35\n",
       "Export Quantity                            150020.64\n",
       "Fat supply quantity (g/capita/day)          10225.56\n",
       "Feed                                       216927.89\n",
       "Food                                      1212332.49\n",
       "Food supply (kcal/capita/day)              454257.00\n",
       "Food supply quantity (kg/capita/yr)         49650.63\n",
       "Import Quantity                            274144.48\n",
       "Losses                                     153223.00\n",
       "Other uses (non-food)                       78718.13\n",
       "Processing                                 282923.00\n",
       "Production                                1931287.75\n",
       "Protein supply quantity (g/capita/day)      11836.46\n",
       "Residuals                                   30149.00\n",
       "Seed                                        21922.92\n",
       "Stock Variation                             58749.83\n",
       "Total Population - Both sexes             1031585.00\n",
       "Tourist consumption                           416.00\n",
       "Name: Y2014, dtype: float64"
      ]
     },
     "execution_count": 68,
     "metadata": {},
     "output_type": "execute_result"
    }
   ],
   "source": [
    "df.groupby('Element')['Y2014'].sum()"
   ]
  },
  {
   "cell_type": "code",
   "execution_count": 69,
   "id": "360cca03",
   "metadata": {},
   "outputs": [
    {
     "data": {
      "text/plain": [
       "Element\n",
       "Domestic supply quantity                  2021493.55\n",
       "Export Quantity                            157614.47\n",
       "Fat supply quantity (g/capita/day)          10235.74\n",
       "Feed                                       225050.22\n",
       "Food                                      1232361.10\n",
       "Food supply (kcal/capita/day)              453383.00\n",
       "Food supply quantity (kg/capita/yr)         49345.13\n",
       "Import Quantity                            267018.46\n",
       "Losses                                     155439.00\n",
       "Other uses (non-food)                       66254.41\n",
       "Processing                                 287929.00\n",
       "Production                                1947019.39\n",
       "Protein supply quantity (g/capita/day)      11833.95\n",
       "Residuals                                   30045.00\n",
       "Seed                                        23976.82\n",
       "Stock Variation                             34910.99\n",
       "Total Population - Both sexes             1058081.00\n",
       "Tourist consumption                           349.00\n",
       "Name: Y2015, dtype: float64"
      ]
     },
     "execution_count": 69,
     "metadata": {},
     "output_type": "execute_result"
    }
   ],
   "source": [
    "df.groupby('Element')['Y2015'].sum()"
   ]
  },
  {
   "cell_type": "code",
   "execution_count": 70,
   "id": "ae73b05e",
   "metadata": {
    "scrolled": true
   },
   "outputs": [
    {
     "data": {
      "text/plain": [
       "Element\n",
       "Domestic supply quantity                  2044842.70\n",
       "Export Quantity                            151920.46\n",
       "Fat supply quantity (g/capita/day)          10102.77\n",
       "Feed                                       228958.65\n",
       "Food                                      1247022.17\n",
       "Food supply (kcal/capita/day)              451810.00\n",
       "Food supply quantity (kg/capita/yr)         48985.28\n",
       "Import Quantity                            286582.78\n",
       "Losses                                     157787.00\n",
       "Other uses (non-food)                       69563.68\n",
       "Processing                                 280631.00\n",
       "Production                                1943537.15\n",
       "Protein supply quantity (g/capita/day)      11779.69\n",
       "Residuals                                   37224.00\n",
       "Seed                                        23389.20\n",
       "Stock Variation                             33140.12\n",
       "Total Population - Both sexes             1085107.00\n",
       "Tourist consumption                            89.00\n",
       "Name: Y2016, dtype: float64"
      ]
     },
     "execution_count": 70,
     "metadata": {},
     "output_type": "execute_result"
    }
   ],
   "source": [
    "df.groupby('Element')['Y2016'].sum()"
   ]
  },
  {
   "cell_type": "code",
   "execution_count": 71,
   "id": "f7d619cc",
   "metadata": {
    "scrolled": true
   },
   "outputs": [
    {
     "data": {
      "text/plain": [
       "Element\n",
       "Domestic supply quantity                  2088198.10\n",
       "Export Quantity                            182338.80\n",
       "Fat supply quantity (g/capita/day)          10253.84\n",
       "Feed                                       223705.68\n",
       "Food                                      1258888.28\n",
       "Food supply (kcal/capita/day)              454681.00\n",
       "Food supply quantity (kg/capita/yr)         48690.04\n",
       "Import Quantity                            294559.09\n",
       "Losses                                     160614.00\n",
       "Other uses (non-food)                       91645.97\n",
       "Processing                                 292836.00\n",
       "Production                                2030056.89\n",
       "Protein supply quantity (g/capita/day)      11842.45\n",
       "Residuals                                   35500.00\n",
       "Seed                                        24870.14\n",
       "Stock Variation                             54316.91\n",
       "Total Population - Both sexes             1112641.00\n",
       "Tourist consumption                            91.00\n",
       "Name: Y2017, dtype: float64"
      ]
     },
     "execution_count": 71,
     "metadata": {},
     "output_type": "execute_result"
    }
   ],
   "source": [
    "df.groupby('Element')['Y2017'].sum()"
   ]
  },
  {
   "cell_type": "markdown",
   "id": "dc7a465b",
   "metadata": {},
   "source": [
    "# NO.16\n",
    "# What is the total number of the sum of Production in 2014?"
   ]
  },
  {
   "cell_type": "code",
   "execution_count": 72,
   "id": "ddd2a8b1",
   "metadata": {
    "scrolled": true
   },
   "outputs": [
    {
     "data": {
      "text/plain": [
       "Element\n",
       "Domestic supply quantity                  1996716.35\n",
       "Export Quantity                            150020.64\n",
       "Fat supply quantity (g/capita/day)          10225.56\n",
       "Feed                                       216927.89\n",
       "Food                                      1212332.49\n",
       "Food supply (kcal/capita/day)              454257.00\n",
       "Food supply quantity (kg/capita/yr)         49650.63\n",
       "Import Quantity                            274144.48\n",
       "Losses                                     153223.00\n",
       "Other uses (non-food)                       78718.13\n",
       "Processing                                 282923.00\n",
       "Production                                1931287.75\n",
       "Protein supply quantity (g/capita/day)      11836.46\n",
       "Residuals                                   30149.00\n",
       "Seed                                        21922.92\n",
       "Stock Variation                             58749.83\n",
       "Total Population - Both sexes             1031585.00\n",
       "Tourist consumption                           416.00\n",
       "Name: Y2014, dtype: float64"
      ]
     },
     "execution_count": 72,
     "metadata": {},
     "output_type": "execute_result"
    }
   ],
   "source": [
    "df.groupby('Element')['Y2014'].sum()"
   ]
  },
  {
   "cell_type": "markdown",
   "id": "945f1d24",
   "metadata": {},
   "source": [
    "# NO.17 and 18\n",
    "# Which of these elements had the highest sum in 2018?\n",
    "# Which of these elements had the 3rd lowest sum in 2018?"
   ]
  },
  {
   "cell_type": "code",
   "execution_count": 73,
   "id": "31719b33",
   "metadata": {
    "scrolled": true
   },
   "outputs": [
    {
     "data": {
      "text/plain": [
       "Element\n",
       "Tourist consumption                            90.00\n",
       "Fat supply quantity (g/capita/day)          10258.69\n",
       "Protein supply quantity (g/capita/day)      11833.56\n",
       "Stock Variation                             20577.91\n",
       "Seed                                        25263.14\n",
       "Residuals                                   34864.00\n",
       "Food supply quantity (kg/capita/yr)         49056.85\n",
       "Other uses (non-food)                       91300.97\n",
       "Losses                                     163902.00\n",
       "Export Quantity                            181594.80\n",
       "Feed                                       233489.68\n",
       "Import Quantity                            287997.09\n",
       "Processing                                 308429.00\n",
       "Food supply (kcal/capita/day)              455261.00\n",
       "Total Population - Both sexes             1140605.00\n",
       "Food                                      1303841.28\n",
       "Production                                2075072.89\n",
       "Domestic supply quantity                  2161192.10\n",
       "Name: Y2018, dtype: float64"
      ]
     },
     "execution_count": 73,
     "metadata": {},
     "output_type": "execute_result"
    }
   ],
   "source": [
    "df.groupby('Element')['Y2018'].sum().sort_values()"
   ]
  },
  {
   "cell_type": "markdown",
   "id": "6f578549",
   "metadata": {},
   "source": [
    "# NO.19\n",
    "# What is the total Import Quantity in Algeria in 2018?"
   ]
  },
  {
   "cell_type": "code",
   "execution_count": 77,
   "id": "85f1eaaf",
   "metadata": {},
   "outputs": [
    {
     "data": {
      "text/plain": [
       "36238.29"
      ]
     },
     "execution_count": 77,
     "metadata": {},
     "output_type": "execute_result"
    }
   ],
   "source": [
    "IQ = df[df[\"Area\"] == \"Algeria\"]\n",
    "IQ.groupby('Element')['Y2018'].sum()['Import Quantity']"
   ]
  },
  {
   "cell_type": "markdown",
   "id": "166b5043",
   "metadata": {},
   "source": [
    "# NO.20\n",
    "# What is the total number of unique countries in the dataset?"
   ]
  },
  {
   "cell_type": "code",
   "execution_count": 38,
   "id": "74cd1536",
   "metadata": {
    "scrolled": true
   },
   "outputs": [
    {
     "data": {
      "text/plain": [
       "array(['Algeria', 'Angola', 'Benin', 'Botswana', 'Burkina Faso',\n",
       "       'Cabo Verde', 'Cameroon', 'Central African Republic', 'Chad',\n",
       "       'Comoros', 'Congo', \"Côte d'Ivoire\", 'Djibouti', 'Egypt',\n",
       "       'Eswatini', 'Ethiopia', 'Ethiopia PDR', 'Gabon', 'Gambia', 'Ghana',\n",
       "       'Guinea', 'Guinea-Bissau', 'Kenya', 'Lesotho', 'Liberia',\n",
       "       'Madagascar', 'Malawi', 'Mali', 'Mauritania', 'Mauritius',\n",
       "       'Morocco', 'Mozambique', 'Namibia', 'Niger', 'Nigeria', 'Rwanda',\n",
       "       'Sao Tome and Principe', 'Senegal', 'Seychelles', 'Sierra Leone',\n",
       "       'South Africa', 'Sudan', 'Sudan (former)', 'Togo', 'Tunisia',\n",
       "       'Uganda', 'United Republic of Tanzania', 'Zambia', 'Zimbabwe'],\n",
       "      dtype=object)"
      ]
     },
     "execution_count": 38,
     "metadata": {},
     "output_type": "execute_result"
    }
   ],
   "source": [
    "df['Area'].unique()"
   ]
  },
  {
   "cell_type": "code",
   "execution_count": 39,
   "id": "f0517d22",
   "metadata": {
    "scrolled": true
   },
   "outputs": [
    {
     "data": {
      "text/plain": [
       "49"
      ]
     },
     "execution_count": 39,
     "metadata": {},
     "output_type": "execute_result"
    }
   ],
   "source": [
    "df['Area'].nunique()"
   ]
  }
 ],
 "metadata": {
  "kernelspec": {
   "display_name": "Python 3 (ipykernel)",
   "language": "python",
   "name": "python3"
  },
  "language_info": {
   "codemirror_mode": {
    "name": "ipython",
    "version": 3
   },
   "file_extension": ".py",
   "mimetype": "text/x-python",
   "name": "python",
   "nbconvert_exporter": "python",
   "pygments_lexer": "ipython3",
   "version": "3.9.7"
  }
 },
 "nbformat": 4,
 "nbformat_minor": 5
}
